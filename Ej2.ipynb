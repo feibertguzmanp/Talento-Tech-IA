{
 "cells": [
  {
   "cell_type": "markdown",
   "id": "68c59199-cbc6-4699-ad0b-4509098181da",
   "metadata": {},
   "source": [
    "# Mi primer cuaderno"
   ]
  },
  {
   "cell_type": "code",
   "execution_count": 1,
   "id": "2c7b8b18-6ca1-4322-8632-1cc75551baaf",
   "metadata": {},
   "outputs": [
    {
     "name": "stdout",
     "output_type": "stream",
     "text": [
      "Hola Mundo\n"
     ]
    }
   ],
   "source": [
    "print(\"Hola Mundo\")"
   ]
  },
  {
   "cell_type": "markdown",
   "id": "1c672280-6738-446d-9731-e17605524b66",
   "metadata": {},
   "source": [
    "# Titulo 2\n"
   ]
  },
  {
   "cell_type": "markdown",
   "id": "6132d53c-6346-45a7-b276-5d5b682dedaa",
   "metadata": {},
   "source": [
    "## Subti\n"
   ]
  }
 ],
 "metadata": {
  "kernelspec": {
   "display_name": "Python 3 (ipykernel)",
   "language": "python",
   "name": "python3"
  },
  "language_info": {
   "codemirror_mode": {
    "name": "ipython",
    "version": 3
   },
   "file_extension": ".py",
   "mimetype": "text/x-python",
   "name": "python",
   "nbconvert_exporter": "python",
   "pygments_lexer": "ipython3",
   "version": "3.13.5"
  }
 },
 "nbformat": 4,
 "nbformat_minor": 5
}
